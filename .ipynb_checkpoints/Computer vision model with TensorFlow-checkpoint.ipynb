{
 "cells": [
  {
   "cell_type": "markdown",
   "metadata": {},
   "source": [
    "# Computer vision model with TensorFlow"
   ]
  },
  {
   "cell_type": "code",
   "execution_count": 1,
   "metadata": {},
   "outputs": [
    {
     "name": "stdout",
     "output_type": "stream",
     "text": [
      "2.4.1\n"
     ]
    }
   ],
   "source": [
    "import tensorflow as tf\n",
    "print(tf.__version__)"
   ]
  },
  {
   "cell_type": "markdown",
   "metadata": {},
   "source": [
    "## Importing the dataset"
   ]
  },
  {
   "cell_type": "code",
   "execution_count": 2,
   "metadata": {},
   "outputs": [],
   "source": [
    "#Importing fashion mnist dataset\n",
    "mnist = tf.keras.datasets.fashion_mnist"
   ]
  },
  {
   "cell_type": "markdown",
   "metadata": {},
   "source": [
    "## Splitting the dataset in training and testing datasets"
   ]
  },
  {
   "cell_type": "code",
   "execution_count": 3,
   "metadata": {},
   "outputs": [],
   "source": [
    "(training_images, training_labels), (test_images, test_labels) = mnist.load_data()"
   ]
  },
  {
   "cell_type": "code",
   "execution_count": 15,
   "metadata": {},
   "outputs": [
    {
     "data": {
      "text/plain": [
       "<matplotlib.image.AxesImage at 0x7f1623602940>"
      ]
     },
     "execution_count": 15,
     "metadata": {},
     "output_type": "execute_result"
    },
    {
     "data": {
      "image/png": "[encoded data removed]",
      "text/plain": [
       "<Figure size 432x288 with 1 Axes>"
      ]
     },
     "metadata": {
      "needs_background": "light"
     },
     "output_type": "display_data"
    }
   ],
   "source": [
    "import matplotlib.pyplot as plt\n",
    "plt.imshow(training_images[1])\n"
   ]
  },
  {
   "cell_type": "code",
   "execution_count": 16,
   "metadata": {},
   "outputs": [
    {
     "name": "stdout",
     "output_type": "stream",
     "text": [
      "0\n"
     ]
    }
   ],
   "source": [
    "print(training_labels[1])"
   ]
  },
  {
   "cell_type": "code",
   "execution_count": 17,
   "metadata": {},
   "outputs": [
    {
     "name": "stdout",
     "output_type": "stream",
     "text": [
      "[[0.         0.         0.         0.         0.         0.00392157\n",
      "  0.         0.         0.         0.         0.16078431 0.7372549\n",
      "  0.40392157 0.21176471 0.18823529 0.16862745 0.34117647 0.65882353\n",
      "  0.52156863 0.0627451  0.         0.         0.         0.\n",
      "  0.         0.         0.         0.        ]\n",
      " [0.         0.         0.         0.00392157 0.         0.\n",
      "  0.         0.19215686 0.53333333 0.85882353 0.84705882 0.89411765\n",
      "  0.9254902  1.         1.         1.         1.         0.85098039\n",
      "  0.84313725 0.99607843 0.90588235 0.62745098 0.17647059 0.\n",
      "  0.         0.         0.         0.        ]\n",
      " [0.         0.         0.         0.         0.         0.05490196\n",
      "  0.69019608 0.87058824 0.87843137 0.83137255 0.79607843 0.77647059\n",
      "  0.76862745 0.78431373 0.84313725 0.8        0.79215686 0.78823529\n",
      "  0.78823529 0.78823529 0.81960784 0.85490196 0.87843137 0.64313725\n",
      "  0.         0.         0.         0.        ]\n",
      " [0.         0.         0.         0.         0.         0.7372549\n",
      "  0.85882353 0.78431373 0.77647059 0.79215686 0.77647059 0.78039216\n",
      "  0.78039216 0.78823529 0.76862745 0.77647059 0.77647059 0.78431373\n",
      "  0.78431373 0.78431373 0.78431373 0.78823529 0.78431373 0.88235294\n",
      "  0.16078431 0.         0.         0.        ]\n",
      " [0.         0.         0.         0.         0.2        0.85882353\n",
      "  0.78039216 0.79607843 0.79607843 0.83137255 0.93333333 0.97254902\n",
      "  0.98039216 0.96078431 0.97647059 0.96470588 0.96862745 0.98823529\n",
      "  0.97254902 0.92156863 0.81176471 0.79607843 0.79607843 0.87058824\n",
      "  0.54901961 0.         0.         0.        ]\n",
      " [0.         0.         0.         0.         0.45490196 0.88627451\n",
      "  0.80784314 0.8        0.81176471 0.8        0.39607843 0.29411765\n",
      "  0.18431373 0.28627451 0.18823529 0.19607843 0.17647059 0.2\n",
      "  0.24705882 0.44313725 0.87058824 0.79215686 0.80784314 0.8627451\n",
      "  0.87843137 0.         0.         0.        ]\n",
      " [0.         0.         0.         0.         0.78431373 0.87058824\n",
      "  0.81960784 0.79607843 0.84313725 0.78431373 0.         0.2745098\n",
      "  0.38431373 0.         0.40392157 0.23137255 0.26666667 0.27843137\n",
      "  0.19215686 0.         0.85882353 0.80784314 0.83921569 0.82352941\n",
      "  0.98039216 0.14901961 0.         0.        ]\n",
      " [0.         0.         0.         0.         0.96862745 0.85490196\n",
      "  0.83137255 0.82352941 0.84313725 0.83921569 0.         0.99607843\n",
      "  0.95294118 0.54509804 1.         0.68235294 0.98431373 1.\n",
      "  0.80392157 0.         0.84313725 0.85098039 0.83921569 0.81568627\n",
      "  0.8627451  0.37254902 0.         0.        ]\n",
      " [0.         0.         0.         0.17647059 0.88627451 0.83921569\n",
      "  0.83921569 0.84313725 0.87843137 0.80392157 0.         0.16470588\n",
      "  0.1372549  0.23529412 0.0627451  0.06666667 0.04705882 0.05098039\n",
      "  0.2745098  0.         0.74117647 0.84705882 0.83137255 0.80784314\n",
      "  0.83137255 0.61176471 0.         0.        ]\n",
      " [0.         0.         0.         0.64313725 0.92156863 0.83921569\n",
      "  0.82745098 0.8627451  0.84705882 0.78823529 0.20392157 0.27843137\n",
      "  0.34901961 0.36862745 0.3254902  0.30588235 0.2745098  0.29803922\n",
      "  0.36078431 0.34117647 0.80784314 0.81176471 0.87058824 0.83529412\n",
      "  0.85882353 0.81568627 0.         0.        ]\n",
      " [0.         0.         0.         0.41568627 0.73333333 0.8745098\n",
      "  0.92941176 0.97254902 0.82745098 0.77647059 0.98823529 0.98039216\n",
      "  0.97254902 0.96078431 0.97254902 0.98823529 0.99215686 0.98039216\n",
      "  0.98823529 0.9372549  0.78823529 0.83137255 0.88235294 0.84313725\n",
      "  0.75686275 0.44313725 0.         0.        ]\n",
      " [0.         0.         0.         0.         0.         0.06666667\n",
      "  0.21176471 0.62352941 0.87058824 0.75686275 0.81568627 0.75294118\n",
      "  0.77254902 0.78431373 0.78431373 0.78431373 0.78431373 0.78823529\n",
      "  0.79607843 0.76470588 0.82352941 0.64705882 0.         0.\n",
      "  0.         0.         0.         0.        ]\n",
      " [0.         0.         0.         0.         0.         0.\n",
      "  0.         0.18431373 0.88235294 0.75294118 0.83921569 0.79607843\n",
      "  0.80784314 0.8        0.8        0.80392157 0.80784314 0.8\n",
      "  0.83137255 0.77254902 0.85490196 0.41960784 0.         0.\n",
      "  0.         0.         0.         0.        ]\n",
      " [0.         0.         0.         0.         0.00392157 0.02352941\n",
      "  0.         0.18039216 0.83137255 0.76470588 0.83137255 0.79215686\n",
      "  0.80784314 0.80392157 0.8        0.80392157 0.80784314 0.8\n",
      "  0.83137255 0.78431373 0.85490196 0.35686275 0.         0.01176471\n",
      "  0.00392157 0.         0.         0.        ]\n",
      " [0.         0.         0.         0.         0.         0.00392157\n",
      "  0.         0.04313725 0.77254902 0.78039216 0.80392157 0.79215686\n",
      "  0.80392157 0.80784314 0.8        0.80392157 0.81176471 0.8\n",
      "  0.80392157 0.80392157 0.85490196 0.30196078 0.         0.01960784\n",
      "  0.         0.         0.         0.        ]\n",
      " [0.         0.         0.         0.         0.         0.01176471\n",
      "  0.         0.00784314 0.74901961 0.77647059 0.78823529 0.80392157\n",
      "  0.80784314 0.80392157 0.80392157 0.80784314 0.81960784 0.80784314\n",
      "  0.78039216 0.81960784 0.85882353 0.29019608 0.         0.01960784\n",
      "  0.         0.         0.         0.        ]\n",
      " [0.         0.         0.         0.         0.         0.00784314\n",
      "  0.         0.         0.7372549  0.77254902 0.78431373 0.81176471\n",
      "  0.81176471 0.8        0.81176471 0.81176471 0.82352941 0.81568627\n",
      "  0.77647059 0.81176471 0.86666667 0.28235294 0.         0.01568627\n",
      "  0.         0.         0.         0.        ]\n",
      " [0.         0.         0.         0.         0.         0.00784314\n",
      "  0.         0.         0.84313725 0.77647059 0.79607843 0.80784314\n",
      "  0.81568627 0.80392157 0.81176471 0.81176471 0.82352941 0.81568627\n",
      "  0.78431373 0.79215686 0.87058824 0.29411765 0.         0.01568627\n",
      "  0.         0.         0.         0.        ]\n",
      " [0.         0.         0.         0.         0.         0.00392157\n",
      "  0.         0.         0.83137255 0.77647059 0.81960784 0.80784314\n",
      "  0.81960784 0.80784314 0.81568627 0.81176471 0.82745098 0.80784314\n",
      "  0.80392157 0.77647059 0.86666667 0.31372549 0.         0.01176471\n",
      "  0.         0.         0.         0.        ]\n",
      " [0.         0.         0.         0.         0.         0.00392157\n",
      "  0.         0.         0.8        0.78823529 0.80392157 0.81568627\n",
      "  0.81176471 0.80392157 0.82745098 0.80392157 0.82352941 0.82352941\n",
      "  0.81960784 0.76470588 0.86666667 0.37647059 0.         0.01176471\n",
      "  0.         0.         0.         0.        ]\n",
      " [0.         0.         0.         0.         0.         0.00392157\n",
      "  0.         0.         0.79215686 0.78823529 0.80392157 0.81960784\n",
      "  0.81176471 0.80392157 0.83529412 0.80784314 0.82352941 0.81960784\n",
      "  0.82352941 0.76078431 0.85098039 0.41176471 0.         0.00784314\n",
      "  0.         0.         0.         0.        ]\n",
      " [0.         0.         0.         0.         0.         0.00392157\n",
      "  0.         0.         0.8        0.8        0.80392157 0.81568627\n",
      "  0.81176471 0.80392157 0.84313725 0.81176471 0.82352941 0.81568627\n",
      "  0.82745098 0.75686275 0.83529412 0.45098039 0.         0.00784314\n",
      "  0.         0.         0.         0.        ]\n",
      " [0.         0.         0.         0.         0.         0.\n",
      "  0.         0.         0.8        0.81176471 0.81176471 0.81568627\n",
      "  0.80784314 0.80784314 0.84313725 0.82352941 0.82352941 0.81176471\n",
      "  0.83137255 0.76470588 0.82352941 0.4627451  0.         0.00784314\n",
      "  0.         0.         0.         0.        ]\n",
      " [0.         0.         0.         0.         0.         0.00392157\n",
      "  0.         0.         0.77647059 0.81568627 0.81568627 0.81568627\n",
      "  0.8        0.81176471 0.83137255 0.83137255 0.82352941 0.81176471\n",
      "  0.82745098 0.76862745 0.81176471 0.4745098  0.         0.00392157\n",
      "  0.         0.         0.         0.        ]\n",
      " [0.         0.         0.         0.         0.         0.00392157\n",
      "  0.         0.         0.77647059 0.82352941 0.81176471 0.81568627\n",
      "  0.80784314 0.81960784 0.83529412 0.83137255 0.82745098 0.81176471\n",
      "  0.82352941 0.77254902 0.81176471 0.48627451 0.         0.00392157\n",
      "  0.         0.         0.         0.        ]\n",
      " [0.         0.         0.         0.         0.         0.\n",
      "  0.         0.         0.6745098  0.82352941 0.79607843 0.78823529\n",
      "  0.78039216 0.8        0.81176471 0.80392157 0.8        0.78823529\n",
      "  0.80392157 0.77254902 0.80784314 0.49803922 0.         0.\n",
      "  0.         0.         0.         0.        ]\n",
      " [0.         0.         0.         0.         0.         0.\n",
      "  0.         0.         0.7372549  0.86666667 0.83921569 0.91764706\n",
      "  0.9254902  0.93333333 0.95686275 0.95686275 0.95686275 0.94117647\n",
      "  0.95294118 0.83921569 0.87843137 0.63529412 0.         0.00784314\n",
      "  0.         0.         0.         0.        ]\n",
      " [0.         0.         0.         0.         0.         0.00392157\n",
      "  0.         0.         0.54509804 0.57254902 0.50980392 0.52941176\n",
      "  0.52941176 0.5372549  0.49019608 0.48627451 0.49019608 0.4745098\n",
      "  0.46666667 0.44705882 0.50980392 0.29803922 0.         0.\n",
      "  0.         0.         0.         0.        ]]\n"
     ]
    }
   ],
   "source": [
    "print(training_images[1])"
   ]
  },
  {
   "cell_type": "code",
   "execution_count": 13,
   "metadata": {},
   "outputs": [],
   "source": [
    "training_images = training_images / 255.0\n",
    "test_images = test_images / 255.0"
   ]
  },
  {
   "cell_type": "code",
   "execution_count": 14,
   "metadata": {},
   "outputs": [
    {
     "name": "stdout",
     "output_type": "stream",
     "text": [
      "[[0.         0.         0.         0.         0.         0.00392157\n",
      "  0.         0.         0.         0.         0.16078431 0.7372549\n",
      "  0.40392157 0.21176471 0.18823529 0.16862745 0.34117647 0.65882353\n",
      "  0.52156863 0.0627451  0.         0.         0.         0.\n",
      "  0.         0.         0.         0.        ]\n",
      " [0.         0.         0.         0.00392157 0.         0.\n",
      "  0.         0.19215686 0.53333333 0.85882353 0.84705882 0.89411765\n",
      "  0.9254902  1.         1.         1.         1.         0.85098039\n",
      "  0.84313725 0.99607843 0.90588235 0.62745098 0.17647059 0.\n",
      "  0.         0.         0.         0.        ]\n",
      " [0.         0.         0.         0.         0.         0.05490196\n",
      "  0.69019608 0.87058824 0.87843137 0.83137255 0.79607843 0.77647059\n",
      "  0.76862745 0.78431373 0.84313725 0.8        0.79215686 0.78823529\n",
      "  0.78823529 0.78823529 0.81960784 0.85490196 0.87843137 0.64313725\n",
      "  0.         0.         0.         0.        ]\n",
      " [0.         0.         0.         0.         0.         0.7372549\n",
      "  0.85882353 0.78431373 0.77647059 0.79215686 0.77647059 0.78039216\n",
      "  0.78039216 0.78823529 0.76862745 0.77647059 0.77647059 0.78431373\n",
      "  0.78431373 0.78431373 0.78431373 0.78823529 0.78431373 0.88235294\n",
      "  0.16078431 0.         0.         0.        ]\n",
      " [0.         0.         0.         0.         0.2        0.85882353\n",
      "  0.78039216 0.79607843 0.79607843 0.83137255 0.93333333 0.97254902\n",
      "  0.98039216 0.96078431 0.97647059 0.96470588 0.96862745 0.98823529\n",
      "  0.97254902 0.92156863 0.81176471 0.79607843 0.79607843 0.87058824\n",
      "  0.54901961 0.         0.         0.        ]\n",
      " [0.         0.         0.         0.         0.45490196 0.88627451\n",
      "  0.80784314 0.8        0.81176471 0.8        0.39607843 0.29411765\n",
      "  0.18431373 0.28627451 0.18823529 0.19607843 0.17647059 0.2\n",
      "  0.24705882 0.44313725 0.87058824 0.79215686 0.80784314 0.8627451\n",
      "  0.87843137 0.         0.         0.        ]\n",
      " [0.         0.         0.         0.         0.78431373 0.87058824\n",
      "  0.81960784 0.79607843 0.84313725 0.78431373 0.         0.2745098\n",
      "  0.38431373 0.         0.40392157 0.23137255 0.26666667 0.27843137\n",
      "  0.19215686 0.         0.85882353 0.80784314 0.83921569 0.82352941\n",
      "  0.98039216 0.14901961 0.         0.        ]\n",
      " [0.         0.         0.         0.         0.96862745 0.85490196\n",
      "  0.83137255 0.82352941 0.84313725 0.83921569 0.         0.99607843\n",
      "  0.95294118 0.54509804 1.         0.68235294 0.98431373 1.\n",
      "  0.80392157 0.         0.84313725 0.85098039 0.83921569 0.81568627\n",
      "  0.8627451  0.37254902 0.         0.        ]\n",
      " [0.         0.         0.         0.17647059 0.88627451 0.83921569\n",
      "  0.83921569 0.84313725 0.87843137 0.80392157 0.         0.16470588\n",
      "  0.1372549  0.23529412 0.0627451  0.06666667 0.04705882 0.05098039\n",
      "  0.2745098  0.         0.74117647 0.84705882 0.83137255 0.80784314\n",
      "  0.83137255 0.61176471 0.         0.        ]\n",
      " [0.         0.         0.         0.64313725 0.92156863 0.83921569\n",
      "  0.82745098 0.8627451  0.84705882 0.78823529 0.20392157 0.27843137\n",
      "  0.34901961 0.36862745 0.3254902  0.30588235 0.2745098  0.29803922\n",
      "  0.36078431 0.34117647 0.80784314 0.81176471 0.87058824 0.83529412\n",
      "  0.85882353 0.81568627 0.         0.        ]\n",
      " [0.         0.         0.         0.41568627 0.73333333 0.8745098\n",
      "  0.92941176 0.97254902 0.82745098 0.77647059 0.98823529 0.98039216\n",
      "  0.97254902 0.96078431 0.97254902 0.98823529 0.99215686 0.98039216\n",
      "  0.98823529 0.9372549  0.78823529 0.83137255 0.88235294 0.84313725\n",
      "  0.75686275 0.44313725 0.         0.        ]\n",
      " [0.         0.         0.         0.         0.         0.06666667\n",
      "  0.21176471 0.62352941 0.87058824 0.75686275 0.81568627 0.75294118\n",
      "  0.77254902 0.78431373 0.78431373 0.78431373 0.78431373 0.78823529\n",
      "  0.79607843 0.76470588 0.82352941 0.64705882 0.         0.\n",
      "  0.         0.         0.         0.        ]\n",
      " [0.         0.         0.         0.         0.         0.\n",
      "  0.         0.18431373 0.88235294 0.75294118 0.83921569 0.79607843\n",
      "  0.80784314 0.8        0.8        0.80392157 0.80784314 0.8\n",
      "  0.83137255 0.77254902 0.85490196 0.41960784 0.         0.\n",
      "  0.         0.         0.         0.        ]\n",
      " [0.         0.         0.         0.         0.00392157 0.02352941\n",
      "  0.         0.18039216 0.83137255 0.76470588 0.83137255 0.79215686\n",
      "  0.80784314 0.80392157 0.8        0.80392157 0.80784314 0.8\n",
      "  0.83137255 0.78431373 0.85490196 0.35686275 0.         0.01176471\n",
      "  0.00392157 0.         0.         0.        ]\n",
      " [0.         0.         0.         0.         0.         0.00392157\n",
      "  0.         0.04313725 0.77254902 0.78039216 0.80392157 0.79215686\n",
      "  0.80392157 0.80784314 0.8        0.80392157 0.81176471 0.8\n",
      "  0.80392157 0.80392157 0.85490196 0.30196078 0.         0.01960784\n",
      "  0.         0.         0.         0.        ]\n",
      " [0.         0.         0.         0.         0.         0.01176471\n",
      "  0.         0.00784314 0.74901961 0.77647059 0.78823529 0.80392157\n",
      "  0.80784314 0.80392157 0.80392157 0.80784314 0.81960784 0.80784314\n",
      "  0.78039216 0.81960784 0.85882353 0.29019608 0.         0.01960784\n",
      "  0.         0.         0.         0.        ]\n",
      " [0.         0.         0.         0.         0.         0.00784314\n",
      "  0.         0.         0.7372549  0.77254902 0.78431373 0.81176471\n",
      "  0.81176471 0.8        0.81176471 0.81176471 0.82352941 0.81568627\n",
      "  0.77647059 0.81176471 0.86666667 0.28235294 0.         0.01568627\n",
      "  0.         0.         0.         0.        ]\n",
      " [0.         0.         0.         0.         0.         0.00784314\n",
      "  0.         0.         0.84313725 0.77647059 0.79607843 0.80784314\n",
      "  0.81568627 0.80392157 0.81176471 0.81176471 0.82352941 0.81568627\n",
      "  0.78431373 0.79215686 0.87058824 0.29411765 0.         0.01568627\n",
      "  0.         0.         0.         0.        ]\n",
      " [0.         0.         0.         0.         0.         0.00392157\n",
      "  0.         0.         0.83137255 0.77647059 0.81960784 0.80784314\n",
      "  0.81960784 0.80784314 0.81568627 0.81176471 0.82745098 0.80784314\n",
      "  0.80392157 0.77647059 0.86666667 0.31372549 0.         0.01176471\n",
      "  0.         0.         0.         0.        ]\n",
      " [0.         0.         0.         0.         0.         0.00392157\n",
      "  0.         0.         0.8        0.78823529 0.80392157 0.81568627\n",
      "  0.81176471 0.80392157 0.82745098 0.80392157 0.82352941 0.82352941\n",
      "  0.81960784 0.76470588 0.86666667 0.37647059 0.         0.01176471\n",
      "  0.         0.         0.         0.        ]\n",
      " [0.         0.         0.         0.         0.         0.00392157\n",
      "  0.         0.         0.79215686 0.78823529 0.80392157 0.81960784\n",
      "  0.81176471 0.80392157 0.83529412 0.80784314 0.82352941 0.81960784\n",
      "  0.82352941 0.76078431 0.85098039 0.41176471 0.         0.00784314\n",
      "  0.         0.         0.         0.        ]\n",
      " [0.         0.         0.         0.         0.         0.00392157\n",
      "  0.         0.         0.8        0.8        0.80392157 0.81568627\n",
      "  0.81176471 0.80392157 0.84313725 0.81176471 0.82352941 0.81568627\n",
      "  0.82745098 0.75686275 0.83529412 0.45098039 0.         0.00784314\n",
      "  0.         0.         0.         0.        ]\n",
      " [0.         0.         0.         0.         0.         0.\n",
      "  0.         0.         0.8        0.81176471 0.81176471 0.81568627\n",
      "  0.80784314 0.80784314 0.84313725 0.82352941 0.82352941 0.81176471\n",
      "  0.83137255 0.76470588 0.82352941 0.4627451  0.         0.00784314\n",
      "  0.         0.         0.         0.        ]\n",
      " [0.         0.         0.         0.         0.         0.00392157\n",
      "  0.         0.         0.77647059 0.81568627 0.81568627 0.81568627\n",
      "  0.8        0.81176471 0.83137255 0.83137255 0.82352941 0.81176471\n",
      "  0.82745098 0.76862745 0.81176471 0.4745098  0.         0.00392157\n",
      "  0.         0.         0.         0.        ]\n",
      " [0.         0.         0.         0.         0.         0.00392157\n",
      "  0.         0.         0.77647059 0.82352941 0.81176471 0.81568627\n",
      "  0.80784314 0.81960784 0.83529412 0.83137255 0.82745098 0.81176471\n",
      "  0.82352941 0.77254902 0.81176471 0.48627451 0.         0.00392157\n",
      "  0.         0.         0.         0.        ]\n",
      " [0.         0.         0.         0.         0.         0.\n",
      "  0.         0.         0.6745098  0.82352941 0.79607843 0.78823529\n",
      "  0.78039216 0.8        0.81176471 0.80392157 0.8        0.78823529\n",
      "  0.80392157 0.77254902 0.80784314 0.49803922 0.         0.\n",
      "  0.         0.         0.         0.        ]\n",
      " [0.         0.         0.         0.         0.         0.\n",
      "  0.         0.         0.7372549  0.86666667 0.83921569 0.91764706\n",
      "  0.9254902  0.93333333 0.95686275 0.95686275 0.95686275 0.94117647\n",
      "  0.95294118 0.83921569 0.87843137 0.63529412 0.         0.00784314\n",
      "  0.         0.         0.         0.        ]\n",
      " [0.         0.         0.         0.         0.         0.00392157\n",
      "  0.         0.         0.54509804 0.57254902 0.50980392 0.52941176\n",
      "  0.52941176 0.5372549  0.49019608 0.48627451 0.49019608 0.4745098\n",
      "  0.46666667 0.44705882 0.50980392 0.29803922 0.         0.\n",
      "  0.         0.         0.         0.        ]]\n"
     ]
    }
   ],
   "source": [
    "print(training_images[1])"
   ]
  },
  {
   "cell_type": "markdown",
   "metadata": {},
   "source": [
    "## Definition of the model"
   ]
  },
  {
   "cell_type": "code",
   "execution_count": 27,
   "metadata": {},
   "outputs": [],
   "source": [
    "model = tf.keras.models.Sequential([\n",
    "                                   tf.keras.layers.Dense(1024, activation=tf.nn.relu),\n",
    "                                   tf.keras.layers.Dense(10, activation=tf.nn.softmax)])"
   ]
  },
  {
   "cell_type": "markdown",
   "metadata": {},
   "source": [
    "## Compile the model"
   ]
  },
  {
   "cell_type": "code",
   "execution_count": 28,
   "metadata": {},
   "outputs": [
    {
     "name": "stdout",
     "output_type": "stream",
     "text": [
      "Epoch 1/5\n",
      "1875/1875 [==============================] - 8s 4ms/step - loss: 0.5792 - accuracy: 0.7937\n",
      "Epoch 2/5\n",
      "1875/1875 [==============================] - 8s 4ms/step - loss: 0.3609 - accuracy: 0.8648\n",
      "Epoch 3/5\n",
      "1875/1875 [==============================] - 8s 4ms/step - loss: 0.3242 - accuracy: 0.8796\n",
      "Epoch 4/5\n",
      "1875/1875 [==============================] - 8s 4ms/step - loss: 0.2944 - accuracy: 0.8913\n",
      "Epoch 5/5\n",
      "1875/1875 [==============================] - 8s 4ms/step - loss: 0.2790 - accuracy: 0.8976\n"
     ]
    },
    {
     "data": {
      "text/plain": [
       "<tensorflow.python.keras.callbacks.History at 0x7f15dc7d65b0>"
      ]
     },
     "execution_count": 28,
     "metadata": {},
     "output_type": "execute_result"
    }
   ],
   "source": [
    "model.compile(optimizer=tf.keras.optimizers.Adam(),\n",
    "             loss='sparse_categorical_crossentropy',\n",
    "             metrics=['accuracy'])\n",
    "model.fit(training_images, training_labels, epochs=5)"
   ]
  },
  {
   "cell_type": "markdown",
   "metadata": {},
   "source": [
    "## Test the model"
   ]
  },
  {
   "cell_type": "code",
   "execution_count": 25,
   "metadata": {},
   "outputs": [
    {
     "name": "stdout",
     "output_type": "stream",
     "text": [
      "313/313 [==============================] - 1s 2ms/step - loss: 0.3621 - accuracy: 0.8780\n"
     ]
    },
    {
     "data": {
      "text/plain": [
       "[0.3621239960193634, 0.878000020980835]"
      ]
     },
     "execution_count": 25,
     "metadata": {},
     "output_type": "execute_result"
    }
   ],
   "source": [
    "model.evaluate(test_images, test_labels)"
   ]
  },
  {
   "cell_type": "markdown",
   "metadata": {},
   "source": [
    "## Exploration exercises"
   ]
  },
  {
   "cell_type": "markdown",
   "metadata": {},
   "source": [
    "### Exercise 1"
   ]
  },
  {
   "cell_type": "code",
   "execution_count": 26,
   "metadata": {},
   "outputs": [
    {
     "name": "stdout",
     "output_type": "stream",
     "text": [
      "[1.4947661e-07 9.4890726e-09 4.2376307e-08 2.6712372e-09 7.3064555e-08\n",
      " 1.6196230e-02 3.9186315e-07 6.9930859e-02 3.3427280e-08 9.1387224e-01]\n"
     ]
    }
   ],
   "source": [
    "classification = model.predict(test_images)\n",
    "print(classification[0])"
   ]
  },
  {
   "cell_type": "code",
   "execution_count": 22,
   "metadata": {},
   "outputs": [
    {
     "name": "stdout",
     "output_type": "stream",
     "text": [
      "9\n"
     ]
    }
   ],
   "source": [
    "print(test_labels[0])"
   ]
  },
  {
   "cell_type": "code",
   "execution_count": null,
   "metadata": {},
   "outputs": [],
   "source": []
  }
 ],
 "metadata": {
  "kernelspec": {
   "display_name": "Python 3",
   "language": "python",
   "name": "python3"
  },
  "language_info": {
   "codemirror_mode": {
    "name": "ipython",
    "version": 3
   },
   "file_extension": ".py",
   "mimetype": "text/x-python",
   "name": "python",
   "nbconvert_exporter": "python",
   "pygments_lexer": "ipython3",
   "version": "3.8.5"
  }
 },
 "nbformat": 4,
 "nbformat_minor": 4
}
